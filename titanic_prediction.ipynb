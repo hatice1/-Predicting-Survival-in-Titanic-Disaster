{
 "cells": [
  {
   "cell_type": "code",
   "execution_count": null,
   "metadata": {
    "collapsed": false,
    "pycharm": {
     "name": "#%%\n"
    }
   },
   "outputs": [],
   "source": [
    "#Import Python Libraries"
   ]
  },
  {
   "cell_type": "code",
   "execution_count": null,
   "metadata": {
    "collapsed": false,
    "pycharm": {
     "name": "#%%\n"
    }
   },
   "outputs": [],
   "source": [
    "import numpy as np\n",
    "import pandas as pd\n",
    "import missingno as mn\n",
    "from collections import Counter"
   ]
  },
  {
   "cell_type": "code",
   "execution_count": null,
   "metadata": {
    "collapsed": false,
    "pycharm": {
     "name": "#%%\n"
    }
   },
   "outputs": [],
   "source": [
    "#Visualization\n",
    "import matplotlib.pyplot as plt\n",
    "import matplotlib.style as style\n",
    "import seaborn as sns\n",
    "%matplotlib inline"
   ]
  },
  {
   "cell_type": "code",
   "execution_count": null,
   "metadata": {
    "collapsed": false,
    "pycharm": {
     "name": "#%%\n"
    }
   },
   "outputs": [],
   "source": [
    "# setting up plot style \n",
    "sns.set_context(\"paper\")\n",
    "style.use('fivethirtyeight')"
   ]
  },
  {
   "cell_type": "code",
   "execution_count": null,
   "metadata": {
    "collapsed": false,
    "pycharm": {
     "name": "#%%\n"
    }
   },
   "outputs": [],
   "source": [
    "# ml\n",
    "from sklearn.preprocessing import OneHotEncoder, LabelEncoder\n",
    "from sklearn.linear_model import LogisticRegression\n",
    "from sklearn.svm import SVC, LinearSVC\n",
    "from sklearn.ensemble import RandomForestClassifier\n",
    "from sklearn.neighbors import KNeighborsClassifier\n",
    "from sklearn.naive_bayes import GaussianNB\n",
    "from sklearn.linear_model import Perceptron\n",
    "from sklearn.linear_model import SGDClassifier\n",
    "from sklearn.tree import DecisionTreeClassifier"
   ]
  },
  {
   "cell_type": "code",
   "execution_count": null,
   "metadata": {
    "collapsed": false,
    "pycharm": {
     "name": "#%%\n"
    }
   },
   "outputs": [],
   "source": [
    "import warnings\n",
    "warnings.filterwarnings('ignore')"
   ]
  },
  {
   "cell_type": "code",
   "execution_count": null,
   "metadata": {
    "collapsed": false,
    "pycharm": {
     "name": "#%%\n"
    }
   },
   "outputs": [],
   "source": [
    "import os\n",
    "for dirname, _, filenames in os.walk('/kaggle/input'):\n",
    "    for filename in filenames:\n",
    "        print(os.path.join(dirname, filename))"
   ]
  },
  {
   "cell_type": "code",
   "execution_count": null,
   "metadata": {
    "collapsed": false,
    "pycharm": {
     "name": "#%%\n"
    }
   },
   "outputs": [],
   "source": [
    "#Importing the input files\n",
    "titanic_train = pd.read_csv('../Titanic/train.csv')\n",
    "titanic_test = pd.read_csv('../Titanic/test.csv')"
   ]
  },
  {
   "cell_type": "code",
   "execution_count": null,
   "metadata": {
    "collapsed": false,
    "pycharm": {
     "name": "#%%\n"
    }
   },
   "outputs": [],
   "source": [
    "titanic_train.head()"
   ]
  },
  {
   "cell_type": "code",
   "execution_count": null,
   "metadata": {
    "collapsed": false,
    "pycharm": {
     "name": "#%%\n"
    }
   },
   "outputs": [],
   "source": [
    "titanic_test.head()"
   ]
  },
  {
   "cell_type": "code",
   "execution_count": null,
   "metadata": {
    "collapsed": false,
    "pycharm": {
     "name": "#%%\n"
    }
   },
   "outputs": [],
   "source": [
    "combined=titanic_train.append(titanic_test)"
   ]
  },
  {
   "cell_type": "code",
   "execution_count": null,
   "metadata": {
    "collapsed": false,
    "pycharm": {
     "name": "#%%\n"
    }
   },
   "outputs": [],
   "source": [
    "# Database dimension\n",
    "print(\"Database dimension : \")\n",
    "print(\"Database dimension - titanic_train     :\",titanic_train.shape)\n",
    "print(\"Database dimension - titanic_test      :\",titanic_test.shape)\n",
    "print(\"Database dimension - combined          :\",combined.shape)\n",
    "\n",
    "print('\\n')"
   ]
  },
  {
   "cell_type": "code",
   "execution_count": null,
   "metadata": {
    "collapsed": false,
    "pycharm": {
     "name": "#%%\n"
    }
   },
   "outputs": [],
   "source": [
    "#Database size\n",
    "print(\"Database size : \")\n",
    "print(\"Database size - titanic_train          :\",titanic_train.size)\n",
    "print(\"Database size - titanic_test           :\",titanic_test.size)\n",
    "print(\"Database size - combined               :\",combined.size)"
   ]
  },
  {
   "cell_type": "code",
   "execution_count": null,
   "metadata": {
    "collapsed": false,
    "pycharm": {
     "name": "#%%\n"
    }
   },
   "outputs": [],
   "source": [
    "#Database column types\n",
    "print(\"Titanic Train Dataset Info : \")\n",
    "print(titanic_train.info())\n",
    "print(\"_\"* 40)\n",
    "print(\"Titanic Test Dataset Info : \")\n",
    "print(titanic_test.info())"
   ]
  },
  {
   "cell_type": "markdown",
   "metadata": {
    "collapsed": false
   },
   "source": [
    "Insights: Numerical Features : PassengerId, Age, Fare, SibSp, Parch Categorical Features : Pclass, Name, Sex, Embarked"
   ]
  },
  {
   "cell_type": "code",
   "execution_count": null,
   "metadata": {
    "collapsed": false,
    "pycharm": {
     "name": "#%%\n"
    }
   },
   "outputs": [],
   "source": [
    "# Checking the numerical variables in train and test data set\n",
    "titanic_train.describe().T"
   ]
  },
  {
   "cell_type": "code",
   "execution_count": null,
   "metadata": {
    "collapsed": false,
    "pycharm": {
     "name": "#%%\n"
    }
   },
   "outputs": [],
   "source": [
    "mn.bar(titanic_train)"
   ]
  },
  {
   "cell_type": "code",
   "execution_count": null,
   "metadata": {
    "collapsed": false,
    "pycharm": {
     "name": "#%%\n"
    }
   },
   "outputs": [],
   "source": [
    "# Column wise null values in train data set \n",
    "null_train_perc = pd.DataFrame((titanic_train.isnull().sum())*100/titanic_train.shape[0]).reset_index()\n",
    "null_train_perc.columns = ['Column Name', 'Null Values Percentage']\n",
    "null_train_value = pd.DataFrame(titanic_train.isnull().sum()).reset_index()\n",
    "null_train_value.columns = ['Column Name', 'Null Values']\n",
    "null_train = pd.merge(null_train_value, null_train_perc, on='Column Name')\n",
    "null_train"
   ]
  },
  {
   "cell_type": "markdown",
   "metadata": {
    "collapsed": false
   },
   "source": [
    "Insights: Cabin - has 687 rows which is 77% of the data missing. There is no point trying to fill the data Age - has 117 likes which is around 20% of the data missing. Age imputation will be followed in later section embarked - has 2 missing values. Data imputation will be followed in later section"
   ]
  },
  {
   "cell_type": "code",
   "execution_count": null,
   "metadata": {
    "collapsed": false,
    "pycharm": {
     "name": "#%%\n"
    }
   },
   "outputs": [],
   "source": [
    "mn.bar(titanic_test)"
   ]
  },
  {
   "cell_type": "code",
   "execution_count": null,
   "metadata": {
    "collapsed": false,
    "pycharm": {
     "name": "#%%\n"
    }
   },
   "outputs": [],
   "source": [
    "# Column wise null values in test data set\n",
    "null_test_perc = pd.DataFrame((titanic_test.isnull().sum())*100/titanic_test.shape[0]).reset_index()\n",
    "null_test_perc.columns = ['Column Name', 'Null Values Percentage']\n",
    "null_test_value = pd.DataFrame(titanic_test.isnull().sum()).reset_index()\n",
    "null_test_value.columns = ['Column Name', 'Null Values']\n",
    "null_test = pd.merge(null_test_value, null_test_perc, on='Column Name')\n",
    "null_test"
   ]
  },
  {
   "cell_type": "markdown",
   "metadata": {
    "collapsed": false
   },
   "source": [
    "Insights: Cabin - has 327 rows which is 78% of the data missing. There is no point trying to fill the data Age - has 86 likes which is around 20.6% of the data missing. Age imputation will be followed in later section Fare - has 1 missing value. Data imputation will be followed in later section"
   ]
  },
  {
   "cell_type": "code",
   "execution_count": null,
   "metadata": {
    "collapsed": false,
    "pycharm": {
     "name": "#%%\n"
    }
   },
   "outputs": [],
   "source": [
    "# checking the correlation among the numeric variables\n",
    "plt.figure(figsize = (8,6))\n",
    "ax= sns.heatmap(titanic_train.corr(), annot = True, cmap=\"RdYlGn\",linewidth =1)\n",
    "plt.show()"
   ]
  },
  {
   "cell_type": "code",
   "execution_count": null,
   "metadata": {
    "collapsed": false,
    "pycharm": {
     "name": "#%%\n"
    }
   },
   "outputs": [],
   "source": [
    "#survived\n",
    "sns.countplot(titanic_train['Survived'], palette = 'husl')\n",
    "plt.show()"
   ]
  },
  {
   "cell_type": "code",
   "execution_count": null,
   "metadata": {
    "collapsed": false,
    "pycharm": {
     "name": "#%%\n"
    }
   },
   "outputs": [],
   "source": [
    "titanic_train['Survived'].value_counts(normalize=True)"
   ]
  },
  {
   "cell_type": "code",
   "execution_count": null,
   "metadata": {
    "collapsed": false,
    "pycharm": {
     "name": "#%%\n"
    }
   },
   "outputs": [],
   "source": [
    "#age"
   ]
  },
  {
   "cell_type": "code",
   "execution_count": null,
   "metadata": {
    "collapsed": false,
    "pycharm": {
     "name": "#%%\n"
    }
   },
   "outputs": [],
   "source": [
    "ax = sns.FacetGrid(titanic_train, col='Survived',height = 6, aspect =0.5)\n",
    "ax.map(sns.distplot, \"Age\")\n",
    "plt.show()"
   ]
  },
  {
   "cell_type": "code",
   "execution_count": null,
   "metadata": {
    "collapsed": false,
    "pycharm": {
     "name": "#%%\n"
    }
   },
   "outputs": [],
   "source": [
    "ax = sns.kdeplot(titanic_train[\"Age\"][(titanic_train[\"Survived\"] == 0) & (titanic_train[\"Age\"].notnull())], color=\"Red\", shade = True)\n",
    "ax = sns.kdeplot(titanic_train[\"Age\"][(titanic_train[\"Survived\"] == 1) & (titanic_train[\"Age\"].notnull())], ax =ax, color=\"Green\", shade= True)\n",
    "ax.set_xlabel(\"Age\")\n",
    "ax.set_ylabel(\"Frequency\")\n",
    "ax = ax.legend([\"Not Survived\",\"Survived\"])"
   ]
  },
  {
   "cell_type": "code",
   "execution_count": null,
   "metadata": {
    "collapsed": false,
    "pycharm": {
     "name": "#%%\n"
    }
   },
   "outputs": [],
   "source": [
    "# Overall age distribution of combined test & train database\n",
    "ax = sns.distplot(combined[\"Age\"], color=\"purple\", label=\"Skewness : %.2f\"%(combined[\"Age\"].skew()))\n",
    "ax = ax.legend(loc=\"best\")\n",
    "plt.show()"
   ]
  },
  {
   "cell_type": "code",
   "execution_count": null,
   "metadata": {
    "collapsed": false,
    "pycharm": {
     "name": "#%%\n"
    }
   },
   "outputs": [],
   "source": [
    "# Overall Fare distribution of combined test & train database\n",
    "plt.figure(figsize=(16,6))\n",
    "plt.subplot(1,2,1)\n",
    "ax = sns.distplot(combined[\"Fare\"], color=\"blue\", label=\"Skewness : %.2f\"%(combined[\"Fare\"].skew()))\n",
    "ax = ax.legend(loc=\"best\")\n",
    "plt.subplot(1,2,2)\n",
    "sns.boxplot(combined[\"Fare\"],color=\"blue\")\n",
    "plt.show()"
   ]
  },
  {
   "cell_type": "code",
   "execution_count": null,
   "metadata": {
    "collapsed": false,
    "pycharm": {
     "name": "#%%\n"
    }
   },
   "outputs": [],
   "source": [
    "ax = sns.FacetGrid(titanic_train, col='Survived',height = 6, aspect =0.5)\n",
    "ax.map(sns.distplot, \"Fare\")\n",
    "plt.show()"
   ]
  },
  {
   "cell_type": "code",
   "execution_count": null,
   "metadata": {
    "collapsed": false,
    "pycharm": {
     "name": "#%%\n"
    }
   },
   "outputs": [],
   "source": [
    "ax = sns.kdeplot(combined[\"Fare\"][(combined[\"Survived\"] == 0) & (combined[\"Fare\"].notnull())], color=\"Red\", shade = True)\n",
    "ax = sns.kdeplot(combined[\"Fare\"][(combined[\"Survived\"] == 1) & (combined[\"Fare\"].notnull())], ax =ax, color=\"Green\", shade= True)\n",
    "ax.set_xlabel(\"Age\")\n",
    "ax.set_ylabel(\"Frequency\")\n",
    "ax = ax.legend([\"Not Survived\",\"Survived\"])"
   ]
  },
  {
   "cell_type": "code",
   "execution_count": null,
   "metadata": {
    "collapsed": false,
    "pycharm": {
     "name": "#%%\n"
    }
   },
   "outputs": [],
   "source": [
    "#parch\n",
    "plt.figure(figsize = (10,6))\n",
    "sns.barplot(x=\"Parch\", y=\"Survived\",data = titanic_train,palette=\"Set2\")\n",
    "plt.ylabel(\"Survival Probability\")\n",
    "plt.show()"
   ]
  },
  {
   "cell_type": "code",
   "execution_count": null,
   "metadata": {
    "collapsed": false,
    "pycharm": {
     "name": "#%%\n"
    }
   },
   "outputs": [],
   "source": [
    "#SibSp\n",
    "plt.figure(figsize = (10,6))\n",
    "sns.barplot(x=\"SibSp\", y=\"Survived\",data = titanic_train,palette=\"husl\")\n",
    "plt.ylabel(\"Survival Probability\")\n",
    "plt.show()"
   ]
  },
  {
   "cell_type": "code",
   "execution_count": null,
   "metadata": {
    "collapsed": false,
    "pycharm": {
     "name": "#%%\n"
    }
   },
   "outputs": [],
   "source": [
    "#sex\n",
    "plt.figure(figsize = (15,6))\n",
    "plt.subplot(1,2,1)\n",
    "sns.barplot(x=\"Sex\", y=\"Survived\",data = titanic_train,palette=\"Set2\")\n",
    "plt.ylabel(\"Survival Probability\")\n",
    "plt.subplot(1,2,2)\n",
    "sns.countplot(\"Sex\",data = titanic_train,palette=\"Set2\")\n",
    "plt.show()"
   ]
  },
  {
   "cell_type": "code",
   "execution_count": null,
   "metadata": {
    "collapsed": false,
    "pycharm": {
     "name": "#%%\n"
    }
   },
   "outputs": [],
   "source": [
    "titanic_train[[\"Sex\",\"Survived\"]].groupby('Sex').agg({\"mean\",\"count\"})"
   ]
  },
  {
   "cell_type": "code",
   "execution_count": null,
   "metadata": {
    "collapsed": false,
    "pycharm": {
     "name": "#%%\n"
    }
   },
   "outputs": [],
   "source": [
    "#pclass\n",
    "plt.figure(figsize = (18,6))\n",
    "plt.subplot(1,3,1)\n",
    "sns.barplot(x=\"Pclass\", y=\"Survived\",data = titanic_train,palette=\"muted\")\n",
    "plt.ylabel(\"Survival Probability\")\n",
    "plt.subplot(1,3,2)\n",
    "sns.countplot(\"Pclass\",data = titanic_train,palette=\"muted\")\n",
    "plt.subplot(1,3,3)\n",
    "sns.barplot(x=\"Pclass\", y=\"Survived\",data = titanic_train,hue = \"Sex\",palette=\"muted\")\n",
    "plt.ylabel(\"Survival Probability\")\n",
    "plt.show()"
   ]
  },
  {
   "cell_type": "code",
   "execution_count": null,
   "metadata": {
    "collapsed": false,
    "pycharm": {
     "name": "#%%\n"
    }
   },
   "outputs": [],
   "source": [
    "#embarked\n",
    "plt.figure(figsize = (18,6))\n",
    "plt.subplot(1,3,1)\n",
    "sns.barplot(x=\"Embarked\", y=\"Survived\",data = titanic_train,palette=\"Accent\")\n",
    "plt.ylabel(\"Survival Probability\")\n",
    "plt.subplot(1,3,2)\n",
    "sns.countplot(\"Embarked\",data = titanic_train,palette=\"Accent\")\n",
    "plt.subplot(1,3,3)\n",
    "sns.barplot(x=\"Embarked\", y=\"Survived\",data = titanic_train,hue = \"Pclass\",palette=\"Accent\")\n",
    "plt.ylabel(\"Survival Probability\")\n",
    "plt.show()"
   ]
  },
  {
   "cell_type": "code",
   "execution_count": null,
   "metadata": {
    "collapsed": false,
    "pycharm": {
     "name": "#%%\n"
    }
   },
   "outputs": [],
   "source": [
    "ax= sns.FacetGrid(data = titanic_train, row = 'Sex', col = 'Pclass', hue = 'Survived',palette = 'husl',height = 4, aspect = 1.4)\n",
    "ax.map(sns.kdeplot, 'Age', alpha = .75, shade = True)\n",
    "plt.legend()"
   ]
  },
  {
   "cell_type": "markdown",
   "metadata": {
    "collapsed": false
   },
   "source": [
    "# Data Cleaning"
   ]
  },
  {
   "cell_type": "code",
   "execution_count": null,
   "metadata": {
    "collapsed": false,
    "pycharm": {
     "name": "#%%\n"
    }
   },
   "outputs": [],
   "source": [
    "display(combined[combined.Fare.isnull()])"
   ]
  },
  {
   "cell_type": "code",
   "execution_count": null,
   "metadata": {
    "collapsed": false,
    "pycharm": {
     "name": "#%%\n"
    }
   },
   "outputs": [],
   "source": [
    "for df in [titanic_train, titanic_test, combined]:\n",
    "    df['PeopleInTicket']=df['Ticket'].map(combined['Ticket'].value_counts()) # Getting the unique count of tickets\n",
    "    df['FarePerPerson']=df['Fare']/df['PeopleInTicket'] \n",
    "\n",
    "\n",
    "print('Mean fare for this category: ', titanic_train[(titanic_train.Embarked=='S') & (titanic_train.Pclass==3)]['FarePerPerson'].mean())"
   ]
  },
  {
   "cell_type": "code",
   "execution_count": null,
   "metadata": {
    "collapsed": false,
    "pycharm": {
     "name": "#%%\n"
    }
   },
   "outputs": [],
   "source": [
    "\n",
    "titanic_test.loc[titanic_test.Fare.isnull(), ['Fare','FarePerPerson']] = round(titanic_train[(titanic_train.Embarked=='S')& (titanic_train.Pclass==3)\\\n",
    "                                                                          & (titanic_train.PeopleInTicket==1)]['Fare'].mean(),1)\n",
    "display(titanic_test[titanic_test.Fare.isnull()])"
   ]
  },
  {
   "cell_type": "code",
   "execution_count": null,
   "metadata": {
    "collapsed": false,
    "pycharm": {
     "name": "#%%\n"
    }
   },
   "outputs": [],
   "source": [
    "# Embarked Imputation"
   ]
  },
  {
   "cell_type": "code",
   "execution_count": null,
   "metadata": {
    "collapsed": false,
    "pycharm": {
     "name": "#%%\n"
    }
   },
   "outputs": [],
   "source": [
    "display(combined[combined.Embarked.isnull()])"
   ]
  },
  {
   "cell_type": "code",
   "execution_count": null,
   "metadata": {
    "collapsed": false,
    "pycharm": {
     "name": "#%%\n"
    }
   },
   "outputs": [],
   "source": [
    "# Groupby Embarked and check some statistics\n",
    "titanic_train[titanic_train.Pclass==1].groupby(['Embarked',\"Pclass\"]).agg({'FarePerPerson': 'mean', 'Fare': 'mean', 'PassengerId': 'count'})"
   ]
  },
  {
   "cell_type": "code",
   "execution_count": null,
   "metadata": {
    "collapsed": false,
    "pycharm": {
     "name": "#%%\n"
    }
   },
   "outputs": [],
   "source": [
    "# Updating the Embarked location for the two missing values\n",
    "titanic_train.loc[titanic_train.PassengerId==62,'Embarked']=\"C\"\n",
    "titanic_train.loc[titanic_train.PassengerId==830,'Embarked']=\"C\"\n",
    "display(titanic_train[titanic_train.Embarked.isnull()])"
   ]
  },
  {
   "cell_type": "code",
   "execution_count": null,
   "metadata": {
    "collapsed": false,
    "pycharm": {
     "name": "#%%\n"
    }
   },
   "outputs": [],
   "source": [
    "#Age Imputation"
   ]
  },
  {
   "cell_type": "code",
   "execution_count": null,
   "metadata": {
    "collapsed": false,
    "pycharm": {
     "name": "#%%\n"
    }
   },
   "outputs": [],
   "source": [
    "titanic_train['Title'], titanic_test['Title'] = [df.Name.str.extract(' ([A-Za-z]+)\\.', expand=False) for df in [titanic_train, titanic_test]]"
   ]
  },
  {
   "cell_type": "code",
   "execution_count": null,
   "metadata": {
    "collapsed": false,
    "pycharm": {
     "name": "#%%\n"
    }
   },
   "outputs": [],
   "source": [
    "# Extracting the statistics of Title on Train dataset\n",
    "titanic_train.groupby(['Title', 'Pclass'])['Age'].agg(['mean', 'count'])"
   ]
  },
  {
   "cell_type": "code",
   "execution_count": null,
   "metadata": {
    "collapsed": false,
    "pycharm": {
     "name": "#%%\n"
    }
   },
   "outputs": [],
   "source": [
    "TitleDict = {\"Capt\": \"Officer\",\"Col\": \"Officer\",\"Major\": \"Officer\",\"Jonkheer\": \"Royalty\", \\\n",
    "             \"Don\": \"Royalty\", \"Sir\" : \"Royalty\",\"Dr\": \"Royalty\",\"Rev\": \"Royalty\", \\\n",
    "             \"Countess\":\"Royalty\", \"Mme\": \"Mrs\", \"Mlle\": \"Miss\", \"Ms\": \"Mrs\",\"Mr\" : \"Mr\", \\\n",
    "             \"Mrs\" : \"Mrs\",\"Miss\" : \"Miss\",\"Master\" : \"Master\",\"Lady\" : \"Royalty\"}"
   ]
  },
  {
   "cell_type": "code",
   "execution_count": null,
   "metadata": {
    "collapsed": false,
    "pycharm": {
     "name": "#%%\n"
    }
   },
   "outputs": [],
   "source": [
    "titanic_train['Title'], titanic_test['Title'] = [df.Title.map(TitleDict) for df in [titanic_train, titanic_test]]\n",
    "\n",
    "# Let us now reprint the groups\n",
    "titanic_train.groupby(['Title', 'Pclass'])['Age'].agg(['mean', 'count'])"
   ]
  },
  {
   "cell_type": "code",
   "execution_count": null,
   "metadata": {
    "collapsed": false,
    "pycharm": {
     "name": "#%%\n"
    }
   },
   "outputs": [],
   "source": [
    "# Checking for Master Title with Age missing\n",
    "display(combined[(combined.Age.isnull()) & (combined.Name.str.contains('Master'))])"
   ]
  },
  {
   "cell_type": "code",
   "execution_count": null,
   "metadata": {
    "collapsed": false,
    "pycharm": {
     "name": "#%%\n"
    }
   },
   "outputs": [],
   "source": [
    "print(\"Average age for Masters in Pclass 3 : \", round(titanic_train[titanic_train.Name.str.contains('Master')]['Age'].mean(),2))\n",
    "print(\"Maximum age for Masters in Pclass 3 : \", round(combined[combined.Name.str.contains('Master')]['Age'].max(),2))"
   ]
  },
  {
   "cell_type": "code",
   "execution_count": null,
   "metadata": {
    "collapsed": false,
    "pycharm": {
     "name": "#%%\n"
    }
   },
   "outputs": [],
   "source": [
    "# Assigning the max value to the age of passenger with title Master and travelling alone\n",
    "titanic_test.loc[titanic_test.PassengerId==1231,'Age']=14"
   ]
  },
  {
   "cell_type": "code",
   "execution_count": null,
   "metadata": {
    "collapsed": false,
    "pycharm": {
     "name": "#%%\n"
    }
   },
   "outputs": [],
   "source": [
    "for df in [titanic_train, titanic_test]:\n",
    "    df.loc[(df.Title=='Miss') & (df.Parch!=0) & (df.PeopleInTicket>1), 'Title']=\"FemaleChild\"\n",
    "\n",
    "# Extracting the statistics\n",
    "print(titanic_train.groupby(['Pclass','Sex','Title'])['Age'].agg({'mean', 'median', 'count'}))\n",
    "print(\"_\"*60)\n",
    "print(titanic_test.groupby(['Pclass','Sex','Title'])['Age'].agg({'mean', 'median', 'count'}))"
   ]
  },
  {
   "cell_type": "code",
   "execution_count": null,
   "metadata": {
    "collapsed": false,
    "pycharm": {
     "name": "#%%\n"
    }
   },
   "outputs": [],
   "source": [
    "# Checking female child with missing age\n",
    "\n",
    "display(titanic_train[(titanic_train.Age.isnull()) & (titanic_train.Title=='FemaleChild')])\n",
    "display(titanic_test[(titanic_test.Age.isnull()) & (titanic_test.Title=='FemaleChild')])"
   ]
  },
  {
   "cell_type": "code",
   "execution_count": null,
   "metadata": {
    "collapsed": false,
    "pycharm": {
     "name": "#%%\n"
    }
   },
   "outputs": [],
   "source": [
    "# Creating a lookup table to fill the missing age values\n",
    "grp = titanic_train.groupby(['Pclass','Sex','Title'])['Age'].mean().reset_index()[['Sex', 'Pclass', 'Title', 'Age']]\n",
    "grp"
   ]
  },
  {
   "cell_type": "code",
   "execution_count": null,
   "metadata": {
    "collapsed": false,
    "pycharm": {
     "name": "#%%\n"
    }
   },
   "outputs": [],
   "source": [
    "# Upfating the missing age based on above lookup table\n",
    "def fill_age(x):\n",
    "    return grp[(grp.Pclass==x.Pclass)&(grp.Sex==x.Sex)&(grp.Title==x.Title)]['Age'].values[0]\n",
    "titanic_train['Age'], titanic_test['Age'] = [df.apply(lambda x: fill_age(x) if np.isnan(x['Age']) else x['Age'], axis=1) for df in [titanic_train, titanic_test]]"
   ]
  },
  {
   "cell_type": "code",
   "execution_count": null,
   "metadata": {
    "collapsed": false,
    "pycharm": {
     "name": "#%%\n"
    }
   },
   "outputs": [],
   "source": [
    "# Checking to see if any null value exists\n",
    "print(titanic_train.Age.isnull().sum())\n",
    "print(\"_\"*50)\n",
    "print(titanic_test.Age.isnull().sum())"
   ]
  },
  {
   "cell_type": "code",
   "execution_count": null,
   "metadata": {
    "collapsed": false,
    "pycharm": {
     "name": "#%%\n"
    }
   },
   "outputs": [],
   "source": [
    "# Outlier Treatment"
   ]
  },
  {
   "cell_type": "code",
   "execution_count": null,
   "metadata": {
    "collapsed": false,
    "pycharm": {
     "name": "#%%\n"
    }
   },
   "outputs": [],
   "source": [
    "#Function to identify outliers\n",
    "def outliers(df, n, features):\n",
    "    outlier_indices = []\n",
    "    for col in features:\n",
    "        Q1 = np.percentile(df[col], 25) # First quartile range\n",
    "        Q3 = np.percentile(df[col],75) # Third quartile range\n",
    "        IQR = Q3 - Q1\n",
    "        outlier_step = 1.5 * IQR\n",
    "        outlier_list_col = df[(df[col] < Q1 - outlier_step) | (df[col] > Q3 + outlier_step )].index\n",
    "        outlier_indices.extend(outlier_list_col)\n",
    "    outlier_indices = Counter(outlier_indices)        \n",
    "    multiple_outliers = list( k for k, v in outlier_indices.items() if v > n )\n",
    "    return multiple_outliers  "
   ]
  },
  {
   "cell_type": "code",
   "execution_count": null,
   "metadata": {
    "collapsed": false,
    "pycharm": {
     "name": "#%%\n"
    }
   },
   "outputs": [],
   "source": [
    "# Extracting the outliers IDs\n",
    "Outliers_id = outliers(titanic_train, 2, [\"Age\", \"SibSp\", \"Parch\", \"Fare\"])\n",
    "print(Outliers_id,'\\n')\n",
    "print(titanic_train.loc[Outliers_id])"
   ]
  },
  {
   "cell_type": "code",
   "execution_count": null,
   "metadata": {
    "collapsed": false,
    "pycharm": {
     "name": "#%%\n"
    }
   },
   "outputs": [],
   "source": [
    "# Dropping the outliers\n",
    "titanic_train = titanic_train.drop(Outliers_id, axis = 0).reset_index(drop=True)\n",
    "titanic_train.shape"
   ]
  },
  {
   "cell_type": "markdown",
   "metadata": {
    "collapsed": false
   },
   "source": [
    "# Feature Engineering\n"
   ]
  },
  {
   "cell_type": "code",
   "execution_count": null,
   "metadata": {
    "collapsed": false,
    "pycharm": {
     "name": "#%%\n"
    }
   },
   "outputs": [],
   "source": [
    "plt.figure(figsize = (12,6))\n",
    "plt.subplot(1,2,1)\n",
    "sns.countplot(titanic_train['Title'], palette = 'Set2')\n",
    "plt.subplot(1,2,2)\n",
    "sns.barplot(x= \"Title\",y = \"Survived\", data = titanic_train, palette = \"Set2\")\n",
    "plt.ylabel(\"Survival Probability\")\n",
    "plt.show()"
   ]
  },
  {
   "cell_type": "code",
   "execution_count": null,
   "metadata": {
    "collapsed": false,
    "pycharm": {
     "name": "#%%\n"
    }
   },
   "outputs": [],
   "source": [
    "# Checking if test dataset has any null values for Title\n",
    "display(titanic_test[(titanic_test.Title.isnull())])"
   ]
  },
  {
   "cell_type": "code",
   "execution_count": null,
   "metadata": {
    "collapsed": false,
    "pycharm": {
     "name": "#%%\n"
    }
   },
   "outputs": [],
   "source": [
    "titanic_test.loc[titanic_test.PassengerId==1306,'Title']=\"Royalty\""
   ]
  },
  {
   "cell_type": "code",
   "execution_count": null,
   "metadata": {
    "collapsed": false,
    "pycharm": {
     "name": "#%%\n"
    }
   },
   "outputs": [],
   "source": [
    "#family siz feature\n",
    "for dataset in [titanic_train,titanic_test]:\n",
    "    dataset['FamilySize'] = dataset['SibSp'] + dataset['Parch'] + 1\n",
    "titanic_train.head(3)"
   ]
  },
  {
   "cell_type": "code",
   "execution_count": null,
   "metadata": {
    "collapsed": false,
    "pycharm": {
     "name": "#%%\n"
    }
   },
   "outputs": [],
   "source": [
    "for dataset in [titanic_train,titanic_test]:\n",
    "    dataset['IsAlone'] = 0\n",
    "    dataset.loc[dataset['FamilySize'] == 1, 'IsAlone'] = 1\n",
    "titanic_train.head(3)  "
   ]
  },
  {
   "cell_type": "code",
   "execution_count": null,
   "metadata": {
    "collapsed": false,
    "pycharm": {
     "name": "#%%\n"
    }
   },
   "outputs": [],
   "source": [
    "#cabin feature\n",
    "for dataset in [titanic_train,titanic_test]:\n",
    "    dataset[\"Cabin\"] = pd.Series([i[0] if not pd.isnull(i) else 'X' for i in dataset['Cabin'] ])\n",
    "titanic_train[\"Cabin\"].value_counts() "
   ]
  },
  {
   "cell_type": "code",
   "execution_count": null,
   "metadata": {
    "collapsed": false,
    "pycharm": {
     "name": "#%%\n"
    }
   },
   "outputs": [],
   "source": [
    "plt.figure(figsize = (12,5))\n",
    "plt.subplot(1,2,1)\n",
    "sns.countplot(titanic_train['Cabin'], palette = 'husl',order=['A','B','C','D','E','F','G','T','X'])\n",
    "plt.subplot(1,2,2)\n",
    "sns.barplot(x= \"Cabin\",y = \"Survived\", data = titanic_train, palette = \"husl\",order=['A','B','C','D','E','F','G','T','X'])\n",
    "plt.ylabel(\"Survival Probability\")\n",
    "plt.show()"
   ]
  },
  {
   "cell_type": "code",
   "execution_count": null,
   "metadata": {
    "collapsed": false,
    "pycharm": {
     "name": "#%%\n"
    }
   },
   "outputs": [],
   "source": [
    "#age binning\n",
    "for dataset in [titanic_train,titanic_test]:\n",
    "    dataset['Age'] = dataset['Age'].astype(int)\n",
    "    dataset.loc[ dataset['Age'] <= 16, 'Age'] = 0\n",
    "    dataset.loc[(dataset['Age'] > 16) & (dataset['Age'] <= 32), 'Age'] = 1\n",
    "    dataset.loc[(dataset['Age'] > 32) & (dataset['Age'] <= 48), 'Age'] = 2\n",
    "    dataset.loc[(dataset['Age'] > 48) & (dataset['Age'] <= 64), 'Age'] = 3\n",
    "    dataset.loc[ dataset['Age'] > 64, 'Age']=4"
   ]
  },
  {
   "cell_type": "code",
   "execution_count": null,
   "metadata": {
    "collapsed": false,
    "pycharm": {
     "name": "#%%\n"
    }
   },
   "outputs": [],
   "source": [
    "# plotting the data based on new age classification\n",
    "plt.figure(figsize = (12,5))\n",
    "plt.subplot(1,2,1)\n",
    "sns.countplot(titanic_train['Age'], palette = 'husl')\n",
    "plt.subplot(1,2,2)\n",
    "sns.barplot(x= \"Age\",y = \"Survived\", data = titanic_train, palette = \"husl\")\n",
    "plt.ylabel(\"Survival Probability\")\n",
    "plt.show()"
   ]
  },
  {
   "cell_type": "code",
   "execution_count": null,
   "metadata": {
    "collapsed": false,
    "pycharm": {
     "name": "#%%\n"
    }
   },
   "outputs": [],
   "source": [
    "#fare binning\n",
    "for dataset in [titanic_train,titanic_test]:\n",
    "    dataset.loc[ dataset['Fare'] <= 7.91, 'Fare'] = 0\n",
    "    dataset.loc[(dataset['Fare'] > 7.91) & (dataset['Fare'] <= 14.454), 'Fare'] = 1\n",
    "    dataset.loc[(dataset['Fare'] > 14.454) & (dataset['Fare'] <= 31), 'Fare']   = 2\n",
    "    dataset.loc[ dataset['Fare'] > 31, 'Fare'] = 3\n",
    "    dataset['Fare'] = dataset['Fare'].astype(int) "
   ]
  },
  {
   "cell_type": "code",
   "execution_count": null,
   "metadata": {
    "collapsed": false,
    "pycharm": {
     "name": "#%%\n"
    }
   },
   "outputs": [],
   "source": [
    "# plotting the data based on new age classification\n",
    "plt.figure(figsize = (12,5))\n",
    "plt.subplot(1,2,1)\n",
    "sns.countplot(titanic_train['Fare'], palette = 'husl')\n",
    "plt.subplot(1,2,2)\n",
    "sns.barplot(x= \"Fare\",y = \"Survived\", data = titanic_train, palette = \"husl\")\n",
    "plt.ylabel(\"Survival Probability\")\n",
    "plt.show()"
   ]
  },
  {
   "cell_type": "markdown",
   "metadata": {
    "collapsed": false
   },
   "source": [
    "# Model Bulding\n"
   ]
  },
  {
   "cell_type": "code",
   "execution_count": null,
   "metadata": {
    "collapsed": false,
    "pycharm": {
     "name": "#%%\n"
    }
   },
   "outputs": [],
   "source": []
  }
 ],
 "metadata": {
  "kernelspec": {
   "display_name": "Python 3",
   "language": "python",
   "name": "python3"
  },
  "language_info": {
   "codemirror_mode": {
    "name": "ipython",
    "version": 3
   },
   "file_extension": ".py",
   "mimetype": "text/x-python",
   "name": "python",
   "nbconvert_exporter": "python",
   "pygments_lexer": "ipython3",
   "version": "3.8.3rc1"
  }
 },
 "nbformat": 4,
 "nbformat_minor": 4
}
